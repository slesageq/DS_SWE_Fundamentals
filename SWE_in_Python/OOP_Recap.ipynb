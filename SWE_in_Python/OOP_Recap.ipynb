{
 "cells": [
  {
   "cell_type": "markdown",
   "metadata": {},
   "source": [
    "# Introduction to OOP"
   ]
  },
  {
   "cell_type": "markdown",
   "metadata": {},
   "source": [
    "This notebook serves as a little refresher of OOP and its main keypoints. This will be tied to the subjects being presented on Codecademy's Software Engineering for DS track. \n",
    "\n",
    "Loosely defined, Object-Oriented Programming is a software development paradigm that encourgages the design of desired entities with properties and methods in created classes to create applications.\n",
    "\n",
    "There are 4 main pillars to OOP:\n",
    "\n",
    "* Inheritance\n",
    "* Polymorphism\n",
    "* Abstraction\n",
    "* Encapsulation\n",
    "\n",
    "I will cover these in detail as I go, but first we'll create the Employee class:"
   ]
  },
  {
   "cell_type": "code",
   "execution_count": 2,
   "metadata": {},
   "outputs": [
    {
     "name": "stdout",
     "output_type": "stream",
     "text": [
      "My ID: 2\n"
     ]
    }
   ],
   "source": [
    "# defining the employee class:\n",
    "class Employee:\n",
    "\n",
    "    # class variable:\n",
    "    new_id = 1\n",
    "\n",
    "    # initialisation:\n",
    "    def __init__(self):\n",
    "        self.id = Employee.new_id\n",
    "        Employee.new_id += 1\n",
    "\n",
    "    # creating the say_id method:\n",
    "    def say_id(self):\n",
    "        print(f\"My ID: {self.id}\")\n",
    "\n",
    "# Instantiating the class:\n",
    "e1 = Employee()\n",
    "e2 = Employee()\n",
    "\n",
    "# Having the employee say their ID:\n",
    "e2.say_id()"
   ]
  },
  {
   "cell_type": "markdown",
   "metadata": {},
   "source": [
    "### 1. Inheritance"
   ]
  },
  {
   "cell_type": "markdown",
   "metadata": {},
   "source": [
    "Inheritance allows us to re-use methods across multiple classes when these are based off the parent class. \n",
    "The primary example is:\n",
    "\n",
    "```\n",
    "class ParentClass:\n",
    "  #class methods/properties...\n",
    "\n",
    "class ChildClass(ParentClass):\n",
    "  #class methods/properties...\n",
    "```"
   ]
  },
  {
   "cell_type": "code",
   "execution_count": 3,
   "metadata": {},
   "outputs": [
    {
     "name": "stdout",
     "output_type": "stream",
     "text": [
      "My ID: 3\n"
     ]
    }
   ],
   "source": [
    "# From the previous example, Employee will be the parent class:\n",
    "\n",
    "class Admin(Employee):\n",
    "    pass\n",
    "\n",
    "# Instantiation\n",
    "e3 = Admin()\n",
    "e3.say_id()"
   ]
  },
  {
   "cell_type": "markdown",
   "metadata": {},
   "source": [
    "#### 1.1 Override"
   ]
  },
  {
   "cell_type": "markdown",
   "metadata": {},
   "source": [
    "While using inheritance, we can also override existing methods without affecting the parent class. These changes would only be reflected in the child class:"
   ]
  },
  {
   "cell_type": "code",
   "execution_count": 5,
   "metadata": {},
   "outputs": [
    {
     "name": "stdout",
     "output_type": "stream",
     "text": [
      "I am an Admin\n"
     ]
    }
   ],
   "source": [
    "class Admin(Employee):\n",
    "\n",
    "    def say_id(self):\n",
    "        print(\"I am an Admin\")\n",
    "\n",
    "# Instantiation\n",
    "e3 = Admin()\n",
    "e3.say_id()"
   ]
  },
  {
   "cell_type": "markdown",
   "metadata": {},
   "source": [
    "#### 1.2 super()"
   ]
  },
  {
   "cell_type": "markdown",
   "metadata": {},
   "source": [
    "If we wanted to both override but still use part of the existing methods, we would use `super()`"
   ]
  },
  {
   "cell_type": "code",
   "execution_count": 6,
   "metadata": {},
   "outputs": [
    {
     "name": "stdout",
     "output_type": "stream",
     "text": [
      "My ID: 5\n",
      "I am an Admin\n"
     ]
    }
   ],
   "source": [
    "class Admin(Employee):\n",
    "\n",
    "    def say_id(self):\n",
    "        super().say_id()\n",
    "        print(\"I am an Admin\")\n",
    "\n",
    "# Instantiation\n",
    "e3 = Admin()\n",
    "e3.say_id()"
   ]
  },
  {
   "cell_type": "markdown",
   "metadata": {},
   "source": [
    "#### 1.3 Multiple Inheritance"
   ]
  },
  {
   "cell_type": "markdown",
   "metadata": {},
   "source": [
    "Whenever a class inherits from more than one parent class, the super method will bring both the superclass and the super-super class as shown below."
   ]
  },
  {
   "cell_type": "code",
   "execution_count": 9,
   "metadata": {},
   "outputs": [
    {
     "ename": "AttributeError",
     "evalue": "'Manager' object has no attribute 'say_user_info'",
     "output_type": "error",
     "traceback": [
      "\u001b[1;31m---------------------------------------------------------------------------\u001b[0m",
      "\u001b[1;31mAttributeError\u001b[0m                            Traceback (most recent call last)",
      "\u001b[1;32mc:\\Repositories\\DS_SWE_Fundamentals\\SWE_in_Python\\trial.ipynb Cell 15\u001b[0m line \u001b[0;36m2\n\u001b[0;32m     <a href='vscode-notebook-cell:/c%3A/Repositories/DS_SWE_Fundamentals/SWE_in_Python/trial.ipynb#X23sZmlsZQ%3D%3D?line=24'>25</a>\u001b[0m         \u001b[39msuper\u001b[39m()\u001b[39m.\u001b[39msay_id()\n\u001b[0;32m     <a href='vscode-notebook-cell:/c%3A/Repositories/DS_SWE_Fundamentals/SWE_in_Python/trial.ipynb#X23sZmlsZQ%3D%3D?line=26'>27</a>\u001b[0m e4 \u001b[39m=\u001b[39m Manager()\n\u001b[1;32m---> <a href='vscode-notebook-cell:/c%3A/Repositories/DS_SWE_Fundamentals/SWE_in_Python/trial.ipynb#X23sZmlsZQ%3D%3D?line=27'>28</a>\u001b[0m e4\u001b[39m.\u001b[39;49msay_user_info()\n",
      "\u001b[1;31mAttributeError\u001b[0m: 'Manager' object has no attribute 'say_user_info'"
     ]
    }
   ],
   "source": [
    "class User:\n",
    "    \n",
    "    def __init__(self, username, role=\"Customer\"):\n",
    "        self.username = username\n",
    "        self.role = role\n",
    "\n",
    "    def say_user_info(self):\n",
    "        print(f\"My username is{self.username}\")\n",
    "        print(f\"My role is {self.role}\")    \n",
    "\n",
    "class Admin(Employee):\n",
    "\n",
    "    def __init__(self):\n",
    "        super().__init__()\n",
    "        User.__init__(self, self.id, \"Admin\")\n",
    "\n",
    "    def say_id(self):\n",
    "        super().say_id()\n",
    "        print(\"I am an Admin\")\n",
    "\n",
    "class Manager(Admin):\n",
    "    \n",
    "    def say_id(self):\n",
    "        print(\"I am the manager\")\n",
    "        super().say_id()\n",
    "\n",
    "e4 = Manager()\n",
    "e4.say_user_info()"
   ]
  },
  {
   "cell_type": "code",
   "execution_count": null,
   "metadata": {},
   "outputs": [],
   "source": []
  }
 ],
 "metadata": {
  "kernelspec": {
   "display_name": "SWE_Fun",
   "language": "python",
   "name": "python3"
  },
  "language_info": {
   "codemirror_mode": {
    "name": "ipython",
    "version": 3
   },
   "file_extension": ".py",
   "mimetype": "text/x-python",
   "name": "python",
   "nbconvert_exporter": "python",
   "pygments_lexer": "ipython3",
   "version": "3.9.16"
  }
 },
 "nbformat": 4,
 "nbformat_minor": 2
}
